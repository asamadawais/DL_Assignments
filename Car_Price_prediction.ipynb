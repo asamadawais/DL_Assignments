{
 "cells": [
  {
   "cell_type": "markdown",
   "metadata": {
    "id": "NyIkn21s7srO"
   },
   "source": [
    "**Car Price Prediction::**\n",
    "\n",
    "Download dataset from this link:\n",
    "\n",
    "https://www.kaggle.com/hellbuoy/car-price-prediction\n",
    "\n",
    "Problem Statement::\n",
    "A Chinese automobile company Geely Auto aspires to enter the US market by setting up their manufacturing unit there and producing cars locally to give competition to their US and European counterparts.\n",
    "\n",
    "They have contracted an automobile consulting company to understand the factors on which the pricing of cars depends. Specifically, they want to understand the factors affecting the pricing of cars in the American market, since those may be very different from the Chinese market. The company wants to know:\n",
    "\n",
    "Which variables are significant in predicting the price of a car How well those variables describe the price of a car Based on various market surveys, the consulting firm has gathered a large data set of different types of cars across the America market.\n",
    "\n",
    "**task::**\n",
    "We are required to model the price of cars with the available independent variables. It will be used by the management to understand how exactly the prices vary with the independent variables. They can accordingly manipulate the design of the cars, the business strategy etc. to meet certain price levels. Further, the model will be a good way for management to understand the pricing dynamics of a new market.\n",
    "\n",
    "**WORKFLOW ::**\n",
    "\n",
    "1.Load Data\n",
    "\n",
    "2.Check Missing Values ( If Exist ; Fill each record with mean of its feature )\n",
    "\n",
    "3.Split into 50% Training(Samples,Labels) , 30% Test(Samples,Labels) and 20% Validation Data(Samples,Labels).\n",
    "\n",
    "4.Model : input Layer (No. of features ), 3 hidden layers including 10,8,6 unit & Output Layer with activation function relu/tanh (check by experiment).\n",
    "\n",
    "5.Compilation Step (Note : Its a Regression problem , select loss , metrics according to it) 6.Train the Model with Epochs (100) and validate it\n",
    "\n",
    "7.If the model gets overfit tune your model by changing the units , No. of layers , activation function , epochs , add dropout layer or add Regularizer according to the need .\n",
    "\n",
    "8.Evaluation Step\n",
    "\n",
    "9.Prediction\n"
   ]
  },
  {
   "cell_type": "code",
   "execution_count": 8,
   "metadata": {
    "id": "Z_zLVupt73BB"
   },
   "outputs": [],
   "source": [
    "import pandas as pd\n",
    "import numpy as np\n",
    "from tensorflow.keras import models,layers\n",
    "from tensorflow.keras.utils import to_categorical\n",
    "import matplotlib.pyplot as plt"
   ]
  },
  {
   "cell_type": "code",
   "execution_count": 14,
   "metadata": {
    "id": "fWg5KQiC9vjS"
   },
   "outputs": [
    {
     "data": {
      "text/html": [
       "<div>\n",
       "<style scoped>\n",
       "    .dataframe tbody tr th:only-of-type {\n",
       "        vertical-align: middle;\n",
       "    }\n",
       "\n",
       "    .dataframe tbody tr th {\n",
       "        vertical-align: top;\n",
       "    }\n",
       "\n",
       "    .dataframe thead th {\n",
       "        text-align: right;\n",
       "    }\n",
       "</style>\n",
       "<table border=\"1\" class=\"dataframe\">\n",
       "  <thead>\n",
       "    <tr style=\"text-align: right;\">\n",
       "      <th></th>\n",
       "      <th>car_ID</th>\n",
       "      <th>symboling</th>\n",
       "      <th>CarName</th>\n",
       "      <th>fueltype</th>\n",
       "      <th>aspiration</th>\n",
       "      <th>doornumber</th>\n",
       "      <th>carbody</th>\n",
       "      <th>drivewheel</th>\n",
       "      <th>enginelocation</th>\n",
       "      <th>wheelbase</th>\n",
       "      <th>...</th>\n",
       "      <th>enginesize</th>\n",
       "      <th>fuelsystem</th>\n",
       "      <th>boreratio</th>\n",
       "      <th>stroke</th>\n",
       "      <th>compressionratio</th>\n",
       "      <th>horsepower</th>\n",
       "      <th>peakrpm</th>\n",
       "      <th>citympg</th>\n",
       "      <th>highwaympg</th>\n",
       "      <th>price</th>\n",
       "    </tr>\n",
       "  </thead>\n",
       "  <tbody>\n",
       "    <tr>\n",
       "      <th>0</th>\n",
       "      <td>1</td>\n",
       "      <td>3</td>\n",
       "      <td>alfa-romero giulia</td>\n",
       "      <td>gas</td>\n",
       "      <td>std</td>\n",
       "      <td>two</td>\n",
       "      <td>convertible</td>\n",
       "      <td>rwd</td>\n",
       "      <td>front</td>\n",
       "      <td>88.6</td>\n",
       "      <td>...</td>\n",
       "      <td>130</td>\n",
       "      <td>mpfi</td>\n",
       "      <td>3.47</td>\n",
       "      <td>2.68</td>\n",
       "      <td>9.0</td>\n",
       "      <td>111</td>\n",
       "      <td>5000</td>\n",
       "      <td>21</td>\n",
       "      <td>27</td>\n",
       "      <td>13495.0</td>\n",
       "    </tr>\n",
       "    <tr>\n",
       "      <th>1</th>\n",
       "      <td>2</td>\n",
       "      <td>3</td>\n",
       "      <td>alfa-romero stelvio</td>\n",
       "      <td>gas</td>\n",
       "      <td>std</td>\n",
       "      <td>two</td>\n",
       "      <td>convertible</td>\n",
       "      <td>rwd</td>\n",
       "      <td>front</td>\n",
       "      <td>88.6</td>\n",
       "      <td>...</td>\n",
       "      <td>130</td>\n",
       "      <td>mpfi</td>\n",
       "      <td>3.47</td>\n",
       "      <td>2.68</td>\n",
       "      <td>9.0</td>\n",
       "      <td>111</td>\n",
       "      <td>5000</td>\n",
       "      <td>21</td>\n",
       "      <td>27</td>\n",
       "      <td>16500.0</td>\n",
       "    </tr>\n",
       "    <tr>\n",
       "      <th>2</th>\n",
       "      <td>3</td>\n",
       "      <td>1</td>\n",
       "      <td>alfa-romero Quadrifoglio</td>\n",
       "      <td>gas</td>\n",
       "      <td>std</td>\n",
       "      <td>two</td>\n",
       "      <td>hatchback</td>\n",
       "      <td>rwd</td>\n",
       "      <td>front</td>\n",
       "      <td>94.5</td>\n",
       "      <td>...</td>\n",
       "      <td>152</td>\n",
       "      <td>mpfi</td>\n",
       "      <td>2.68</td>\n",
       "      <td>3.47</td>\n",
       "      <td>9.0</td>\n",
       "      <td>154</td>\n",
       "      <td>5000</td>\n",
       "      <td>19</td>\n",
       "      <td>26</td>\n",
       "      <td>16500.0</td>\n",
       "    </tr>\n",
       "    <tr>\n",
       "      <th>3</th>\n",
       "      <td>4</td>\n",
       "      <td>2</td>\n",
       "      <td>audi 100 ls</td>\n",
       "      <td>gas</td>\n",
       "      <td>std</td>\n",
       "      <td>four</td>\n",
       "      <td>sedan</td>\n",
       "      <td>fwd</td>\n",
       "      <td>front</td>\n",
       "      <td>99.8</td>\n",
       "      <td>...</td>\n",
       "      <td>109</td>\n",
       "      <td>mpfi</td>\n",
       "      <td>3.19</td>\n",
       "      <td>3.40</td>\n",
       "      <td>10.0</td>\n",
       "      <td>102</td>\n",
       "      <td>5500</td>\n",
       "      <td>24</td>\n",
       "      <td>30</td>\n",
       "      <td>13950.0</td>\n",
       "    </tr>\n",
       "    <tr>\n",
       "      <th>4</th>\n",
       "      <td>5</td>\n",
       "      <td>2</td>\n",
       "      <td>audi 100ls</td>\n",
       "      <td>gas</td>\n",
       "      <td>std</td>\n",
       "      <td>four</td>\n",
       "      <td>sedan</td>\n",
       "      <td>4wd</td>\n",
       "      <td>front</td>\n",
       "      <td>99.4</td>\n",
       "      <td>...</td>\n",
       "      <td>136</td>\n",
       "      <td>mpfi</td>\n",
       "      <td>3.19</td>\n",
       "      <td>3.40</td>\n",
       "      <td>8.0</td>\n",
       "      <td>115</td>\n",
       "      <td>5500</td>\n",
       "      <td>18</td>\n",
       "      <td>22</td>\n",
       "      <td>17450.0</td>\n",
       "    </tr>\n",
       "  </tbody>\n",
       "</table>\n",
       "<p>5 rows × 26 columns</p>\n",
       "</div>"
      ],
      "text/plain": [
       "   car_ID  symboling                   CarName fueltype aspiration doornumber  \\\n",
       "0       1          3        alfa-romero giulia      gas        std        two   \n",
       "1       2          3       alfa-romero stelvio      gas        std        two   \n",
       "2       3          1  alfa-romero Quadrifoglio      gas        std        two   \n",
       "3       4          2               audi 100 ls      gas        std       four   \n",
       "4       5          2                audi 100ls      gas        std       four   \n",
       "\n",
       "       carbody drivewheel enginelocation  wheelbase  ...  enginesize  \\\n",
       "0  convertible        rwd          front       88.6  ...         130   \n",
       "1  convertible        rwd          front       88.6  ...         130   \n",
       "2    hatchback        rwd          front       94.5  ...         152   \n",
       "3        sedan        fwd          front       99.8  ...         109   \n",
       "4        sedan        4wd          front       99.4  ...         136   \n",
       "\n",
       "   fuelsystem  boreratio  stroke compressionratio horsepower  peakrpm citympg  \\\n",
       "0        mpfi       3.47    2.68              9.0        111     5000      21   \n",
       "1        mpfi       3.47    2.68              9.0        111     5000      21   \n",
       "2        mpfi       2.68    3.47              9.0        154     5000      19   \n",
       "3        mpfi       3.19    3.40             10.0        102     5500      24   \n",
       "4        mpfi       3.19    3.40              8.0        115     5500      18   \n",
       "\n",
       "   highwaympg    price  \n",
       "0          27  13495.0  \n",
       "1          27  16500.0  \n",
       "2          26  16500.0  \n",
       "3          30  13950.0  \n",
       "4          22  17450.0  \n",
       "\n",
       "[5 rows x 26 columns]"
      ]
     },
     "execution_count": 14,
     "metadata": {},
     "output_type": "execute_result"
    }
   ],
   "source": [
    "data_set = pd.read_csv('C:/Users/asama/DL/Completed_Assignments/CarPrice_Assignment.csv')\n",
    "data_set.head()"
   ]
  },
  {
   "cell_type": "code",
   "execution_count": 15,
   "metadata": {
    "colab": {
     "base_uri": "https://localhost:8080/"
    },
    "id": "hIw-M3GkOyIq",
    "outputId": "78842d1d-e8cf-4b7e-d8b5-4916bb6f6f7c"
   },
   "outputs": [
    {
     "data": {
      "text/plain": [
       "car_ID                int64\n",
       "symboling             int64\n",
       "CarName              object\n",
       "fueltype             object\n",
       "aspiration           object\n",
       "doornumber           object\n",
       "carbody              object\n",
       "drivewheel           object\n",
       "enginelocation       object\n",
       "wheelbase           float64\n",
       "carlength           float64\n",
       "carwidth            float64\n",
       "carheight           float64\n",
       "curbweight            int64\n",
       "enginetype           object\n",
       "cylindernumber       object\n",
       "enginesize            int64\n",
       "fuelsystem           object\n",
       "boreratio           float64\n",
       "stroke              float64\n",
       "compressionratio    float64\n",
       "horsepower            int64\n",
       "peakrpm               int64\n",
       "citympg               int64\n",
       "highwaympg            int64\n",
       "price               float64\n",
       "dtype: object"
      ]
     },
     "execution_count": 15,
     "metadata": {},
     "output_type": "execute_result"
    }
   ],
   "source": [
    "data_set.dtypes"
   ]
  },
  {
   "cell_type": "code",
   "execution_count": 16,
   "metadata": {
    "id": "A0nk1hEqe07r"
   },
   "outputs": [
    {
     "data": {
      "text/plain": [
       "car_ID              float64\n",
       "symboling           float64\n",
       "CarName             float64\n",
       "fueltype            float64\n",
       "aspiration          float64\n",
       "doornumber          float64\n",
       "carbody             float64\n",
       "drivewheel          float64\n",
       "enginelocation      float64\n",
       "wheelbase           float64\n",
       "carlength           float64\n",
       "carwidth            float64\n",
       "carheight           float64\n",
       "curbweight          float64\n",
       "enginetype          float64\n",
       "cylindernumber      float64\n",
       "enginesize          float64\n",
       "fuelsystem          float64\n",
       "boreratio           float64\n",
       "stroke              float64\n",
       "compressionratio    float64\n",
       "horsepower          float64\n",
       "peakrpm             float64\n",
       "citympg             float64\n",
       "highwaympg          float64\n",
       "price               float64\n",
       "dtype: object"
      ]
     },
     "execution_count": 16,
     "metadata": {},
     "output_type": "execute_result"
    }
   ],
   "source": [
    "string_vals = ['CarName','fueltype','aspiration','doornumber','carbody','drivewheel','enginelocation','enginetype','cylindernumber','fuelsystem']\n",
    "def encoder(string_vals):\n",
    "    integer_mapping = {x: i for i, x in enumerate(string_vals)}\n",
    "    vectorized_data = [integer_mapping[word] for word in string_vals]\n",
    "    return vectorized_data\n",
    "\n",
    "for i in string_vals:\n",
    "    data_set[i] = encoder(data_set[i])\n",
    "data_set = data_set.astype('float64')\n",
    "data_set.dtypes"
   ]
  },
  {
   "cell_type": "code",
   "execution_count": 17,
   "metadata": {
    "colab": {
     "base_uri": "https://localhost:8080/"
    },
    "id": "E1YwvY2nHyv2",
    "outputId": "dca4df0d-75e8-4557-9aaf-24afaea7d259"
   },
   "outputs": [
    {
     "data": {
      "text/plain": [
       "car_ID              0\n",
       "symboling           0\n",
       "CarName             0\n",
       "fueltype            0\n",
       "aspiration          0\n",
       "doornumber          0\n",
       "carbody             0\n",
       "drivewheel          0\n",
       "enginelocation      0\n",
       "wheelbase           0\n",
       "carlength           0\n",
       "carwidth            0\n",
       "carheight           0\n",
       "curbweight          0\n",
       "enginetype          0\n",
       "cylindernumber      0\n",
       "enginesize          0\n",
       "fuelsystem          0\n",
       "boreratio           0\n",
       "stroke              0\n",
       "compressionratio    0\n",
       "horsepower          0\n",
       "peakrpm             0\n",
       "citympg             0\n",
       "highwaympg          0\n",
       "price               0\n",
       "dtype: int64"
      ]
     },
     "execution_count": 17,
     "metadata": {},
     "output_type": "execute_result"
    }
   ],
   "source": [
    "data_set.isnull().sum()"
   ]
  },
  {
   "cell_type": "code",
   "execution_count": 18,
   "metadata": {
    "id": "ZZvJjoOBIdDl"
   },
   "outputs": [],
   "source": [
    "trg_val=int((50/100)*len(data_set['car_ID']))\n",
    "test_val=int((30/100)*len(data_set['car_ID']))\n",
    "val_val=int((20/100)*len(data_set['car_ID']))\n",
    "\n",
    "test_data=np.concatenate((data_set.loc[ :(test_val//2) ,:'highwaympg'],data_set.loc[(len(data_set)-(test_val//2)):  ,:'highwaympg']),axis=0)\n",
    "test_label=np.concatenate((data_set.loc[:(test_val//2),:'price'],data_set.loc[len(data_set)-(test_val//2):,:'price']))\n",
    "\n",
    "remaining_data=data_set.loc[(test_val//2):len(data_set)-(test_val//2),:'highwaympg']\n",
    "remaining_labels=data_set.loc[(test_val//2):len(data_set)-(test_val//2),:'price']\n",
    "\n",
    "mean=remaining_data.mean(axis=0)\n",
    "std=remaining_data.std(axis=0)\n",
    "\n",
    "remaining_data-=mean\n",
    "remaining_data/=std\n",
    "\n",
    "test_data-=mean\n",
    "test_data/=std\n",
    "\n",
    "train_data=remaining_data[:trg_val]\n",
    "train_labels=remaining_labels[:trg_val]\n",
    "\n",
    "val_data=remaining_data[trg_val:]\n",
    "val_labels=remaining_labels[trg_val:]"
   ]
  },
  {
   "cell_type": "code",
   "execution_count": 19,
   "metadata": {
    "id": "SPqVhWplKD2X"
   },
   "outputs": [],
   "source": [
    "def build_model():\n",
    "    model = models.Sequential()\n",
    "    model.add(layers.Dense(14, activation='relu', input_shape=(25,)))\n",
    "    model.add(layers.Dense(10,activation='relu'))\n",
    "    model.add(layers.Dense(1))\n",
    "#mae stands for Mean Absolute Error\n",
    "    model.compile(optimizer='rmsprop',loss='mse',metrics=['mae'])\n",
    "    return model\n"
   ]
  },
  {
   "cell_type": "code",
   "execution_count": 20,
   "metadata": {
    "colab": {
     "base_uri": "https://localhost:8080/"
    },
    "id": "juByUT8AxY6-",
    "outputId": "e6e6512d-360f-48b6-bd73-3baf286ece7a"
   },
   "outputs": [
    {
     "name": "stdout",
     "output_type": "stream",
     "text": [
      "processing fold # 0\n",
      "processing fold # 1\n",
      "processing fold # 2\n",
      "processing fold # 3\n",
      "Epoch 1/10\n",
      "110/110 [==============================] - 2s 7ms/step - loss: 10803674.8739 - mae: 902.3362 - val_loss: 4218789.5000 - val_mae: 713.6443\n",
      "Epoch 2/10\n",
      "110/110 [==============================] - 0s 3ms/step - loss: 11115313.8851 - mae: 922.0582 - val_loss: 4216497.0000 - val_mae: 712.2302\n",
      "Epoch 3/10\n",
      "110/110 [==============================] - 0s 2ms/step - loss: 12999203.9685 - mae: 960.7969 - val_loss: 4213387.0000 - val_mae: 710.5096\n",
      "Epoch 4/10\n",
      "110/110 [==============================] - 0s 2ms/step - loss: 9391448.6396 - mae: 859.4766 - val_loss: 4209022.5000 - val_mae: 708.2634\n",
      "Epoch 5/10\n",
      "110/110 [==============================] - 0s 2ms/step - loss: 10860755.8333 - mae: 911.1419 - val_loss: 4203294.0000 - val_mae: 705.4662\n",
      "Epoch 6/10\n",
      "110/110 [==============================] - 0s 2ms/step - loss: 13225357.1396 - mae: 944.4956 - val_loss: 4196078.0000 - val_mae: 702.0491\n",
      "Epoch 7/10\n",
      "110/110 [==============================] - 0s 2ms/step - loss: 12242461.4189 - mae: 913.4625 - val_loss: 4186765.7500 - val_mae: 697.9324\n",
      "Epoch 8/10\n",
      "110/110 [==============================] - 0s 2ms/step - loss: 11891035.5450 - mae: 890.2584 - val_loss: 4175908.0000 - val_mae: 693.3121\n",
      "Epoch 9/10\n",
      "110/110 [==============================] - 0s 2ms/step - loss: 10015796.2117 - mae: 857.0715 - val_loss: 4162233.7500 - val_mae: 688.0592\n",
      "Epoch 10/10\n",
      "110/110 [==============================] - 0s 3ms/step - loss: 11104674.3243 - mae: 890.6837 - val_loss: 4146138.7500 - val_mae: 682.5154\n"
     ]
    }
   ],
   "source": [
    "k = 4\n",
    "num_val_samples = len(remaining_data) // k\n",
    "#100 epochs make a overfit model. Therefore 10 epochs are applied.\n",
    "num_epochs = 10\n",
    "all_scores = []\n",
    "for i in range(k):\n",
    "    print('processing fold #', i)\n",
    "    \n",
    "# Prepare the validation data: data from partition # k\n",
    "val_data = remaining_data[i * num_val_samples: (i + 1) * num_val_samples]\n",
    "val_targets = remaining_labels[i * num_val_samples: (i + 1) * num_val_samples]\n",
    "\n",
    "\n",
    "# Prepare the training data: data from all other partitions\n",
    "\n",
    "partial_train_data = np.concatenate(\n",
    "[remaining_data[:i * num_val_samples],\n",
    "remaining_data[(i + 1) * num_val_samples:]],\n",
    "axis=0)\n",
    "\n",
    "partial_train_targets = np.concatenate(\n",
    "[remaining_labels[:i * num_val_samples],\n",
    "remaining_labels[(i + 1) * num_val_samples:]],\n",
    "axis=0)\n",
    " # Build the Keras model (already compiled)\n",
    "model = build_model()\n",
    " # Train the model (in silent mode, verbose=0)\n",
    "history=model.fit(partial_train_data, partial_train_targets,epochs=num_epochs,validation_data=(val_data, val_targets), batch_size=1, verbose=1)\n",
    " # Evaluate the model on the validation data\n",
    "mae_history = history.history['val_mae']\n",
    "all_scores.append(mae_history)"
   ]
  },
  {
   "cell_type": "code",
   "execution_count": 21,
   "metadata": {
    "colab": {
     "base_uri": "https://localhost:8080/"
    },
    "id": "9G9GGUUL6SRE",
    "outputId": "187a1219-0e2f-45d3-a7a1-63025c1e8e3c"
   },
   "outputs": [
    {
     "data": {
      "text/plain": [
       "10"
      ]
     },
     "execution_count": 21,
     "metadata": {},
     "output_type": "execute_result"
    }
   ],
   "source": [
    "len(all_scores[0])"
   ]
  },
  {
   "cell_type": "code",
   "execution_count": 22,
   "metadata": {
    "id": "-mrNXGSm3Y0E"
   },
   "outputs": [],
   "source": [
    "average_mae_history = [np.mean([x[i] for x in all_scores]) for i in range(num_epochs)]"
   ]
  },
  {
   "cell_type": "code",
   "execution_count": 23,
   "metadata": {
    "colab": {
     "base_uri": "https://localhost:8080/",
     "height": 279
    },
    "id": "NZR6zhBr6r1E",
    "outputId": "bf3d88d6-d674-47cd-ce66-3da8c4f77cae"
   },
   "outputs": [
    {
     "data": {
      "image/png": "[encoded data removed]",
      "text/plain": [
       "<Figure size 432x288 with 1 Axes>"
      ]
     },
     "metadata": {
      "needs_background": "light"
     },
     "output_type": "display_data"
    }
   ],
   "source": [
    "plt.plot(range(len(average_mae_history)), average_mae_history)\n",
    "plt.xlabel('Epochs')\n",
    "plt.ylabel('Validation MAE')\n",
    "plt.show()"
   ]
  },
  {
   "cell_type": "code",
   "execution_count": 24,
   "metadata": {
    "colab": {
     "base_uri": "https://localhost:8080/"
    },
    "id": "A0QbKxLcEIKE",
    "outputId": "363a997a-19a4-45f7-a90c-1890173c066b"
   },
   "outputs": [
    {
     "name": "stdout",
     "output_type": "stream",
     "text": [
      "2/2 [==============================] - 0s 7ms/step - loss: 11182514.0000 - mae: 936.5353\n"
     ]
    },
    {
     "data": {
      "text/plain": [
       "[11182514.0, 936.5352783203125]"
      ]
     },
     "execution_count": 24,
     "metadata": {},
     "output_type": "execute_result"
    }
   ],
   "source": [
    "model.evaluate(test_data,test_label)"
   ]
  },
  {
   "cell_type": "code",
   "execution_count": 27,
   "metadata": {
    "colab": {
     "base_uri": "https://localhost:8080/"
    },
    "id": "a4NA9oc4ImGA",
    "outputId": "a575f4f3-cb4a-4e4e-e186-ab6ecc78c5d9"
   },
   "outputs": [
    {
     "data": {
      "text/plain": [
       "array([[111.60373 ],\n",
       "       [111.011986],\n",
       "       [136.75635 ],\n",
       "       [110.375984],\n",
       "       [112.46421 ],\n",
       "       [122.555275],\n",
       "       [146.28235 ],\n",
       "       [149.67828 ],\n",
       "       [166.14706 ],\n",
       "       [132.80835 ],\n",
       "       [114.71368 ],\n",
       "       [116.44974 ],\n",
       "       [114.34906 ],\n",
       "       [112.08394 ],\n",
       "       [138.71124 ],\n",
       "       [197.33409 ],\n",
       "       [210.4141  ],\n",
       "       [237.48087 ],\n",
       "       [127.96019 ],\n",
       "       [161.37381 ],\n",
       "       [149.73015 ],\n",
       "       [164.80887 ],\n",
       "       [156.68385 ],\n",
       "       [125.31941 ],\n",
       "       [149.02095 ],\n",
       "       [144.72652 ],\n",
       "       [144.2653  ],\n",
       "       [119.91015 ],\n",
       "       [105.43675 ],\n",
       "       [116.58524 ],\n",
       "       [204.4941  ],\n",
       "       [ 36.094234],\n",
       "       [ 36.28123 ],\n",
       "       [ 36.85993 ],\n",
       "       [ 96.82858 ],\n",
       "       [ 99.13848 ],\n",
       "       [103.91455 ],\n",
       "       [103.96112 ],\n",
       "       [ 27.143219],\n",
       "       [ 31.98277 ],\n",
       "       [ 27.549168],\n",
       "       [ 29.841492],\n",
       "       [ 28.675514],\n",
       "       [ 16.375443],\n",
       "       [ 24.729866],\n",
       "       [ 45.45068 ],\n",
       "       [ 44.53637 ],\n",
       "       [ 51.56828 ],\n",
       "       [ 25.328701],\n",
       "       [ 29.64014 ],\n",
       "       [105.21028 ],\n",
       "       [107.15997 ],\n",
       "       [103.93267 ],\n",
       "       [106.14537 ],\n",
       "       [135.78722 ],\n",
       "       [137.7576  ],\n",
       "       [114.29047 ],\n",
       "       [144.54463 ],\n",
       "       [132.83214 ],\n",
       "       [ 96.947426],\n",
       "       [135.89304 ]], dtype=float32)"
      ]
     },
     "execution_count": 27,
     "metadata": {},
     "output_type": "execute_result"
    }
   ],
   "source": [
    "model.predict(test_data)"
   ]
  },
  {
   "cell_type": "code",
   "execution_count": null,
   "metadata": {},
   "outputs": [],
   "source": []
  }
 ],
 "metadata": {
  "colab": {
   "collapsed_sections": [],
   "name": "Car_Price_prediction.ipynb",
   "provenance": []
  },
  "kernelspec": {
   "display_name": "Python 3",
   "language": "python",
   "name": "python3"
  },
  "language_info": {
   "codemirror_mode": {
    "name": "ipython",
    "version": 3
   },
   "file_extension": ".py",
   "mimetype": "text/x-python",
   "name": "python",
   "nbconvert_exporter": "python",
   "pygments_lexer": "ipython3",
   "version": "3.7.6"
  }
 },
 "nbformat": 4,
 "nbformat_minor": 1
}
