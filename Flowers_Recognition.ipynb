{
 "cells": [
  {
   "cell_type": "code",
   "execution_count": 1,
   "metadata": {
    "id": "MHeMvFpkR-Oe"
   },
   "outputs": [],
   "source": [
    "import numpy as np\n",
    "import pandas as pd\n",
    "import tensorflow as tf\n",
    "from tensorflow.keras import models\n",
    "from tensorflow.keras import layers\n",
    "from tensorflow.keras.preprocessing.image import ImageDataGenerator\n",
    "from tensorflow.keras.models import Sequential\n",
    "from tensorflow.keras.layers import Dense, Flatten\n",
    "from tensorflow.keras.optimizers import RMSprop\n"
   ]
  },
  {
   "cell_type": "code",
   "execution_count": 2,
   "metadata": {
    "colab": {
     "base_uri": "https://localhost:8080/"
    },
    "id": "gu8R1NyOv9Gv",
    "outputId": "2012785e-c9d0-470f-8721-f3cd0e984991"
   },
   "outputs": [
    {
     "name": "stdout",
     "output_type": "stream",
     "text": [
      "Found 3028 images belonging to 5 classes.\n",
      "Found 1295 images belonging to 5 classes.\n"
     ]
    }
   ],
   "source": [
    "#    #C:/Users/asama/DL/Completed_Assignments/flowers\n",
    "\n",
    "val_batch = 10\n",
    "train_batch = 32\n",
    "train_datagen = ImageDataGenerator(\n",
    "    rescale=1./255,\n",
    "    validation_split=0.30,\n",
    "        )\n",
    "train_generator = train_datagen.flow_from_directory(\n",
    "    './flowers',\n",
    "    target_size=(180, 180),\n",
    "    batch_size=train_batch,\n",
    "    class_mode='sparse',\n",
    "    subset = 'training',\n",
    "    color_mode = 'rgb',\n",
    "    shuffle = True)\n",
    "validation_generator = train_datagen.flow_from_directory(\n",
    "    './flowers',\n",
    "    target_size=(180, 180),\n",
    "    batch_size=val_batch,\n",
    "    class_mode='sparse',\n",
    "    subset = 'validation',\n",
    "    color_mode = 'rgb',\n",
    "    shuffle= True)"
   ]
  },
  {
   "cell_type": "code",
   "execution_count": 3,
   "metadata": {
    "colab": {
     "base_uri": "https://localhost:8080/"
    },
    "id": "RR13ZEf7-zus",
    "outputId": "2f6845c0-9df3-43ca-f72b-fda785cc3f7d"
   },
   "outputs": [
    {
     "data": {
      "text/plain": [
       "{'daisy': 0, 'dandelion': 1, 'rose': 2, 'sunflower': 3, 'tulip': 4}"
      ]
     },
     "execution_count": 3,
     "metadata": {},
     "output_type": "execute_result"
    }
   ],
   "source": [
    "train_generator.class_indices"
   ]
  },
  {
   "cell_type": "code",
   "execution_count": 4,
   "metadata": {
    "colab": {
     "base_uri": "https://localhost:8080/"
    },
    "id": "LqDb5wQt9NSe",
    "outputId": "018c928c-f59e-472d-91af-d1feceff2d3e"
   },
   "outputs": [
    {
     "data": {
      "text/plain": [
       "tensorflow.python.keras.preprocessing.image.ImageDataGenerator"
      ]
     },
     "execution_count": 4,
     "metadata": {},
     "output_type": "execute_result"
    }
   ],
   "source": [
    "type(train_datagen)"
   ]
  },
  {
   "cell_type": "code",
   "execution_count": 5,
   "metadata": {},
   "outputs": [
    {
     "data": {
      "text/plain": [
       "tensorflow.python.keras.preprocessing.image.DirectoryIterator"
      ]
     },
     "execution_count": 5,
     "metadata": {},
     "output_type": "execute_result"
    }
   ],
   "source": [
    "type(train_generator)"
   ]
  },
  {
   "cell_type": "code",
   "execution_count": 6,
   "metadata": {
    "colab": {
     "base_uri": "https://localhost:8080/"
    },
    "id": "I0JAwzvh9blZ",
    "outputId": "dfcf9483-63c5-4b2a-a8b1-f196f21ad185"
   },
   "outputs": [
    {
     "data": {
      "text/plain": [
       "array([2., 3., 4., 1., 4., 4., 4., 0., 1., 1., 4., 0., 1., 0., 2., 4., 4.,\n",
       "       3., 4., 2., 2., 3., 4., 3., 4., 4., 2., 2., 1., 2., 3., 1.],\n",
       "      dtype=float32)"
      ]
     },
     "execution_count": 6,
     "metadata": {},
     "output_type": "execute_result"
    }
   ],
   "source": [
    "train_generator[31][1]"
   ]
  },
  {
   "cell_type": "code",
   "execution_count": 7,
   "metadata": {
    "id": "MECEactbpYY2"
   },
   "outputs": [],
   "source": [
    "from tensorflow.keras.models import Sequential\n",
    "from tensorflow.keras.layers import Dense, Dropout,Flatten\n",
    "model = Sequential()\n",
    "model.add(Flatten())\n",
    "model.add(Dense(10, activation='relu'))\n",
    "model.add(layers.Dropout(0.2))\n",
    "model.add(Dense(8, activation='elu'))\n",
    "model.add(layers.Dropout(0.2))\n",
    "model.add(Dense(5,  activation='softmax'))"
   ]
  },
  {
   "cell_type": "code",
   "execution_count": 8,
   "metadata": {
    "id": "2QFL7tA4D0Sa"
   },
   "outputs": [],
   "source": [
    "model.compile(optimizer='rmsprop',\n",
    "loss='sparse_categorical_crossentropy',\n",
    "metrics=['accuracy'])"
   ]
  },
  {
   "cell_type": "code",
   "execution_count": 9,
   "metadata": {
    "id": "kBJbtQp1fhfx"
   },
   "outputs": [],
   "source": [
    "import tensorflow as tf"
   ]
  },
  {
   "cell_type": "code",
   "execution_count": 10,
   "metadata": {
    "colab": {
     "base_uri": "https://localhost:8080/"
    },
    "id": "mwG7_qctxUBl",
    "outputId": "a657cddc-ae3a-4e12-bd0e-8bf0f672af9e"
   },
   "outputs": [
    {
     "name": "stdout",
     "output_type": "stream",
     "text": [
      "Epoch 1/20\n",
      "20/20 [==============================] - 10s 481ms/step - loss: 11.6499 - accuracy: 0.2029 - val_loss: 1.6010 - val_accuracy: 0.2417\n",
      "Epoch 2/20\n",
      "20/20 [==============================] - 9s 442ms/step - loss: 1.6053 - accuracy: 0.2343 - val_loss: 1.6048 - val_accuracy: 0.2286\n",
      "Epoch 3/20\n",
      "20/20 [==============================] - 9s 444ms/step - loss: 1.6055 - accuracy: 0.2488 - val_loss: 1.6035 - val_accuracy: 0.2278\n",
      "Epoch 4/20\n",
      "20/20 [==============================] - 8s 439ms/step - loss: 1.6254 - accuracy: 0.2192 - val_loss: 1.6027 - val_accuracy: 0.2432\n",
      "Epoch 5/20\n",
      "20/20 [==============================] - 9s 491ms/step - loss: 1.5995 - accuracy: 0.2453 - val_loss: 1.6018 - val_accuracy: 0.2432\n",
      "Epoch 6/20\n",
      "20/20 [==============================] - 8s 400ms/step - loss: 1.6025 - accuracy: 0.2242 - val_loss: 1.6010 - val_accuracy: 0.2432\n",
      "Epoch 7/20\n",
      "20/20 [==============================] - 8s 435ms/step - loss: 1.5973 - accuracy: 0.2420 - val_loss: 1.6000 - val_accuracy: 0.2432\n",
      "Epoch 8/20\n",
      "20/20 [==============================] - 9s 461ms/step - loss: 1.5930 - accuracy: 0.2478 - val_loss: 1.5993 - val_accuracy: 0.2432\n",
      "Epoch 9/20\n",
      "20/20 [==============================] - 9s 450ms/step - loss: 1.5952 - accuracy: 0.2791 - val_loss: 1.5991 - val_accuracy: 0.2432\n",
      "Epoch 10/20\n",
      "20/20 [==============================] - 9s 448ms/step - loss: 1.6115 - accuracy: 0.2126 - val_loss: 1.5990 - val_accuracy: 0.2432\n",
      "Epoch 11/20\n",
      "20/20 [==============================] - 9s 446ms/step - loss: 1.6013 - accuracy: 0.2101 - val_loss: 1.5988 - val_accuracy: 0.2432\n",
      "Epoch 12/20\n",
      "20/20 [==============================] - 9s 456ms/step - loss: 1.6125 - accuracy: 0.2016 - val_loss: 1.5989 - val_accuracy: 0.2432\n",
      "Epoch 13/20\n",
      "20/20 [==============================] - 9s 451ms/step - loss: 1.5950 - accuracy: 0.2422 - val_loss: 1.5988 - val_accuracy: 0.2432\n",
      "Epoch 14/20\n",
      "20/20 [==============================] - 9s 449ms/step - loss: 1.5958 - accuracy: 0.2413 - val_loss: 1.5988 - val_accuracy: 0.2432\n",
      "Epoch 15/20\n",
      "20/20 [==============================] - 9s 455ms/step - loss: 1.5908 - accuracy: 0.2672 - val_loss: 1.5988 - val_accuracy: 0.2432\n",
      "Epoch 16/20\n",
      "20/20 [==============================] - 9s 459ms/step - loss: 1.5945 - accuracy: 0.2650 - val_loss: 1.5987 - val_accuracy: 0.2432\n",
      "Epoch 17/20\n",
      "20/20 [==============================] - 9s 442ms/step - loss: 1.6071 - accuracy: 0.2187 - val_loss: 1.5987 - val_accuracy: 0.2432\n",
      "Epoch 18/20\n",
      "20/20 [==============================] - 9s 474ms/step - loss: 1.6001 - accuracy: 0.2536 - val_loss: 1.5987 - val_accuracy: 0.2432\n",
      "Epoch 19/20\n",
      "20/20 [==============================] - 10s 532ms/step - loss: 1.5843 - accuracy: 0.2726 - val_loss: 1.5966 - val_accuracy: 0.2432\n",
      "Epoch 20/20\n",
      "20/20 [==============================] - 10s 536ms/step - loss: 1.5888 - accuracy: 0.2673 - val_loss: 1.5987 - val_accuracy: 0.2432\n"
     ]
    }
   ],
   "source": [
    "with tf.device('/device:GPU:0'):\n",
    "    result = model.fit(\n",
    "          train_generator,\n",
    "          steps_per_epoch = 20,\n",
    "          batch_size = train_batch,\n",
    "          validation_data = validation_generator,\n",
    "          validation_batch_size= val_batch,\n",
    "          epochs=20)"
   ]
  },
  {
   "cell_type": "code",
   "execution_count": 11,
   "metadata": {
    "colab": {
     "base_uri": "https://localhost:8080/"
    },
    "id": "kAMVOUBUhcj9",
    "outputId": "db434bb6-e8e4-472f-bdc7-cb037b48335b"
   },
   "outputs": [
    {
     "name": "stdout",
     "output_type": "stream",
     "text": [
      "130/130 [==============================] - 6s 45ms/step - loss: 1.5987 - accuracy: 0.2432\n"
     ]
    },
    {
     "data": {
      "text/plain": [
       "[1.5987073183059692, 0.2432432472705841]"
      ]
     },
     "execution_count": 11,
     "metadata": {},
     "output_type": "execute_result"
    }
   ],
   "source": [
    "model.evaluate(validation_generator)"
   ]
  },
  {
   "cell_type": "code",
   "execution_count": 12,
   "metadata": {
    "colab": {
     "base_uri": "https://localhost:8080/"
    },
    "id": "Ufw4FqsmU-g2",
    "outputId": "8f3fdd61-6da5-452f-e187-73ff2c55f313"
   },
   "outputs": [
    {
     "data": {
      "text/plain": [
       "dict_keys(['loss', 'accuracy', 'val_loss', 'val_accuracy'])"
      ]
     },
     "execution_count": 12,
     "metadata": {},
     "output_type": "execute_result"
    }
   ],
   "source": [
    "x = result.history.keys()\n",
    "x"
   ]
  },
  {
   "cell_type": "code",
   "execution_count": 13,
   "metadata": {
    "colab": {
     "base_uri": "https://localhost:8080/",
     "height": 573
    },
    "id": "dOKPsS3HWwUn",
    "outputId": "2abfc7a2-821f-43a7-bf5b-7c88fd80c488"
   },
   "outputs": [
    {
     "data": {
      "image/png": "[encoded data removed]",
      "text/plain": [
       "<Figure size 432x288 with 1 Axes>"
      ]
     },
     "metadata": {
      "needs_background": "light"
     },
     "output_type": "display_data"
    },
    {
     "data": {
      "image/png": "[encoded data removed]",
      "text/plain": [
       "<Figure size 432x288 with 1 Axes>"
      ]
     },
     "metadata": {
      "needs_background": "light"
     },
     "output_type": "display_data"
    }
   ],
   "source": [
    "# Visualize training history\n",
    "from tensorflow.keras.models import Sequential\n",
    "from tensorflow.keras.layers import Dense\n",
    "import matplotlib.pyplot as plt\n",
    "import numpy\n",
    "plt.plot(result.history['accuracy'])\n",
    "plt.plot(result.history['val_accuracy'])\n",
    "plt.title('model accuracy')\n",
    "plt.ylabel('accuracy')\n",
    "plt.xlabel('epoch')\n",
    "plt.legend(['train', 'test'], loc='upper left')\n",
    "plt.show()\n",
    "# summarize history for loss\n",
    "plt.plot(result.history['loss'])\n",
    "plt.plot(result.history['val_loss'])\n",
    "plt.title('model loss')\n",
    "plt.ylabel('loss')\n",
    "plt.xlabel('epoch')\n",
    "plt.legend(['train', 'test'], loc='upper left')\n",
    "plt.show()"
   ]
  },
  {
   "cell_type": "code",
   "execution_count": 14,
   "metadata": {
    "id": "u7p4aMxliqvO"
   },
   "outputs": [],
   "source": [
    "y_pred1 = model.predict(validation_generator)"
   ]
  },
  {
   "cell_type": "code",
   "execution_count": 15,
   "metadata": {
    "colab": {
     "base_uri": "https://localhost:8080/"
    },
    "id": "-qhQ6JA_i0YM",
    "outputId": "9797b44c-ae92-4003-a7e8-93fb690710fa"
   },
   "outputs": [
    {
     "data": {
      "text/plain": [
       "array([[0.18007214, 0.24548648, 0.1799447 , 0.16646975, 0.22802691],\n",
       "       [0.18007214, 0.24548648, 0.1799447 , 0.16646975, 0.22802691],\n",
       "       [0.18007214, 0.24548648, 0.1799447 , 0.16646975, 0.22802691],\n",
       "       ...,\n",
       "       [0.18007214, 0.24548648, 0.1799447 , 0.16646975, 0.22802691],\n",
       "       [0.18007214, 0.24548648, 0.1799447 , 0.16646975, 0.22802691],\n",
       "       [0.18007214, 0.24548648, 0.1799447 , 0.16646975, 0.22802691]],\n",
       "      dtype=float32)"
      ]
     },
     "execution_count": 15,
     "metadata": {},
     "output_type": "execute_result"
    }
   ],
   "source": [
    "y_pred1"
   ]
  },
  {
   "cell_type": "code",
   "execution_count": 16,
   "metadata": {
    "id": "TRKNoHsBNvdR"
   },
   "outputs": [],
   "source": [
    "list1 = []\n",
    "for i in range(0,len(validation_generator)):\n",
    "    for j in range(0,val_batch):\n",
    "        try:\n",
    "              list1.append(validation_generator[i][1][j].tolist())\n",
    "        except:\n",
    "              break"
   ]
  },
  {
   "cell_type": "code",
   "execution_count": 18,
   "metadata": {
    "id": "K-SgD9VNRfD-"
   },
   "outputs": [
    {
     "data": {
      "text/plain": [
       "<tf.Tensor: shape=(5, 5), dtype=int32, numpy=\n",
       "array([[  0, 230,   0,   0,   0],\n",
       "       [  0, 315,   0,   0,   0],\n",
       "       [  0, 235,   0,   0,   0],\n",
       "       [  0, 220,   0,   0,   0],\n",
       "       [  0, 295,   0,   0,   0]])>"
      ]
     },
     "execution_count": 18,
     "metadata": {},
     "output_type": "execute_result"
    }
   ],
   "source": [
    "tf.math.confusion_matrix(\n",
    "    list1, np.argmax(y_pred1, axis=1), num_classes=None, weights=None, dtype=tf.dtypes.int32,\n",
    "    name=None\n",
    ")"
   ]
  },
  {
   "cell_type": "code",
   "execution_count": null,
   "metadata": {},
   "outputs": [],
   "source": []
  }
 ],
 "metadata": {
  "accelerator": "GPU",
  "colab": {
   "collapsed_sections": [],
   "name": "flowerclassification_28_march.ipynb",
   "provenance": []
  },
  "kernelspec": {
   "display_name": "Python 3",
   "language": "python",
   "name": "python3"
  },
  "language_info": {
   "codemirror_mode": {
    "name": "ipython",
    "version": 3
   },
   "file_extension": ".py",
   "mimetype": "text/x-python",
   "name": "python",
   "nbconvert_exporter": "python",
   "pygments_lexer": "ipython3",
   "version": "3.7.6"
  }
 },
 "nbformat": 4,
 "nbformat_minor": 1
}
